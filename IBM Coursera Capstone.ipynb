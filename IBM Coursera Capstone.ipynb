{
    "nbformat_minor": 1, 
    "cells": [
        {
            "source": "# IBM Data Science Professional Certificate Specialization - Capstone project\n## Week 1 - Introduction to Capstone Project\n- Introduction to Capstone Project\n- Location Data Providers\n- Signing-up for a Watson Studio Account\n- Peer-review Assignment: Capstone Project Notebook\n## Week 2 - Foursquare API\n- Introduction to Foursquare\n- Getting Foursquare API Credentials\n- Using Foursquare API\n- Lab: Foursquare API\n- Quiz: Foursquare API\n## Week 3 - Neighborhood Segmentation and Clustering\n- Clustering\n- Lab: Clustering\n- Lab: Segmenting and Clustering Neighborhoods in New York City\n- Peer-review Assignment: Segmenting and Clustering Neighborhoods in Toronto\n## Week 4 - Capstone Project\n## Week 5 - Capstone Project (Cont'd)\n", 
            "cell_type": "markdown", 
            "metadata": {
                "collapsed": true
            }
        }, 
        {
            "source": "this notebook will be mainly used for the capstone project", 
            "cell_type": "markdown", 
            "metadata": {}
        }, 
        {
            "execution_count": 2, 
            "cell_type": "code", 
            "metadata": {}, 
            "outputs": [
                {
                    "output_type": "stream", 
                    "name": "stdout", 
                    "text": "Hello Capstone Project Course!\n"
                }
            ], 
            "source": "import pandas as pb\nimport numpy as np\nprint (\"Hello Capstone Project Course!\")"
        }, 
        {
            "execution_count": null, 
            "cell_type": "code", 
            "metadata": {}, 
            "outputs": [], 
            "source": ""
        }
    ], 
    "metadata": {
        "kernelspec": {
            "display_name": "Python 3.5", 
            "name": "python3", 
            "language": "python"
        }, 
        "language_info": {
            "mimetype": "text/x-python", 
            "nbconvert_exporter": "python", 
            "version": "3.5.5", 
            "name": "python", 
            "file_extension": ".py", 
            "pygments_lexer": "ipython3", 
            "codemirror_mode": {
                "version": 3, 
                "name": "ipython"
            }
        }
    }, 
    "nbformat": 4
}