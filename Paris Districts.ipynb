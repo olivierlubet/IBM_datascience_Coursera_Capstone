{
    "nbformat_minor": 1, 
    "cells": [
        {
            "execution_count": 1, 
            "cell_type": "code", 
            "metadata": {}, 
            "outputs": [
                {
                    "output_type": "stream", 
                    "name": "stdout", 
                    "text": "Fetching package metadata .............\nSolving package specifications: .\n\nPackage plan for installation in environment /opt/conda/envs/DSX-Python35:\n\nThe following packages will be UPDATED:\n\n    beautifulsoup4: 4.6.0-py35h442a8c9_1 --> 4.6.3-py35_0 conda-forge\n\nbeautifulsoup4 100% |################################| Time: 0:00:00   8.30 MB/s\n"
                }
            ], 
            "source": "#!conda install -c conda-forge beautifulsoup4 --yes "
        }, 
        {
            "source": "# Packages import", 
            "cell_type": "markdown", 
            "metadata": {}
        }, 
        {
            "execution_count": 1, 
            "cell_type": "code", 
            "metadata": {}, 
            "outputs": [], 
            "source": "import urllib.request as url\nfrom bs4 import BeautifulSoup as bs\nimport requests\nfrom pandas.io.json import json_normalize # tranform JSON file into a pandas dataframe\nimport pandas as pd\nimport numpy as np\nimport re\n\n# Matplotlib and associated plotting modules\nimport matplotlib.cm as cm\nimport matplotlib.colors as colors\n\n# import k-means from clustering stage\nfrom sklearn.cluster import KMeans"
        }, 
        {
            "source": "# Web scraping", 
            "cell_type": "markdown", 
            "metadata": {}
        }, 
        {
            "execution_count": 2, 
            "cell_type": "code", 
            "metadata": {}, 
            "outputs": [], 
            "source": "w_url = 'https://fr.wikipedia.org/wiki/Arrondissements_de_Paris'\nw_page = requests.get(w_url).text\nsoup = bs(w_page,'lxml')"
        }, 
        {
            "execution_count": 40, 
            "cell_type": "code", 
            "metadata": {}, 
            "outputs": [
                {
                    "output_type": "stream", 
                    "name": "stdout", 
                    "text": "(20, 3)\n"
                }, 
                {
                    "execution_count": 40, 
                    "metadata": {}, 
                    "data": {
                        "text/html": "<div>\n<style scoped>\n    .dataframe tbody tr th:only-of-type {\n        vertical-align: middle;\n    }\n\n    .dataframe tbody tr th {\n        vertical-align: top;\n    }\n\n    .dataframe thead th {\n        text-align: right;\n    }\n</style>\n<table border=\"1\" class=\"dataframe\">\n  <thead>\n    <tr style=\"text-align: right;\">\n      <th></th>\n      <th>District</th>\n      <th>Name</th>\n      <th>Population</th>\n    </tr>\n  </thead>\n  <tbody>\n    <tr>\n      <th>0</th>\n      <td>75001</td>\n      <td>Louvre</td>\n      <td>16252</td>\n    </tr>\n    <tr>\n      <th>1</th>\n      <td>75002</td>\n      <td>Bourse</td>\n      <td>20260</td>\n    </tr>\n    <tr>\n      <th>2</th>\n      <td>75003</td>\n      <td>Temple</td>\n      <td>34788</td>\n    </tr>\n    <tr>\n      <th>3</th>\n      <td>75004</td>\n      <td>H\u00f4tel-de-Ville</td>\n      <td>27487</td>\n    </tr>\n    <tr>\n      <th>4</th>\n      <td>75005</td>\n      <td>Panth\u00e9on</td>\n      <td>59108</td>\n    </tr>\n    <tr>\n      <th>5</th>\n      <td>75006</td>\n      <td>Luxembourg</td>\n      <td>40916</td>\n    </tr>\n    <tr>\n      <th>6</th>\n      <td>75007</td>\n      <td>Palais-Bourbon</td>\n      <td>52512</td>\n    </tr>\n    <tr>\n      <th>7</th>\n      <td>75008</td>\n      <td>\u00c9lys\u00e9e</td>\n      <td>36453</td>\n    </tr>\n    <tr>\n      <th>8</th>\n      <td>75009</td>\n      <td>Op\u00e9ra</td>\n      <td>59629</td>\n    </tr>\n    <tr>\n      <th>9</th>\n      <td>75010</td>\n      <td>Entrep\u00f4t</td>\n      <td>91932</td>\n    </tr>\n    <tr>\n      <th>10</th>\n      <td>75011</td>\n      <td>Popincourt</td>\n      <td>147017</td>\n    </tr>\n    <tr>\n      <th>11</th>\n      <td>75012</td>\n      <td>Reuilly</td>\n      <td>141494</td>\n    </tr>\n    <tr>\n      <th>12</th>\n      <td>75013</td>\n      <td>Gobelins</td>\n      <td>181552</td>\n    </tr>\n    <tr>\n      <th>13</th>\n      <td>75014</td>\n      <td>Observatoire</td>\n      <td>137105</td>\n    </tr>\n    <tr>\n      <th>14</th>\n      <td>75015</td>\n      <td>Vaugirard</td>\n      <td>233484</td>\n    </tr>\n    <tr>\n      <th>15</th>\n      <td>75016</td>\n      <td>Passy</td>\n      <td>165446</td>\n    </tr>\n    <tr>\n      <th>16</th>\n      <td>75017</td>\n      <td>Batignolles-Monceau</td>\n      <td>167835</td>\n    </tr>\n    <tr>\n      <th>17</th>\n      <td>75018</td>\n      <td>Buttes-Montmartre</td>\n      <td>195060</td>\n    </tr>\n    <tr>\n      <th>18</th>\n      <td>75019</td>\n      <td>Buttes-Chaumont</td>\n      <td>13722</td>\n    </tr>\n    <tr>\n      <th>19</th>\n      <td>75020</td>\n      <td>M\u00e9nilmontant</td>\n      <td>15514</td>\n    </tr>\n  </tbody>\n</table>\n</div>", 
                        "text/plain": "    District                 Name  Population\n0      75001               Louvre       16252\n1      75002               Bourse       20260\n2      75003               Temple       34788\n3      75004       H\u00f4tel-de-Ville       27487\n4      75005             Panth\u00e9on       59108\n5      75006           Luxembourg       40916\n6      75007       Palais-Bourbon       52512\n7      75008               \u00c9lys\u00e9e       36453\n8      75009                Op\u00e9ra       59629\n9      75010             Entrep\u00f4t       91932\n10     75011           Popincourt      147017\n11     75012              Reuilly      141494\n12     75013             Gobelins      181552\n13     75014         Observatoire      137105\n14     75015            Vaugirard      233484\n15     75016                Passy      165446\n16     75017  Batignolles-Monceau      167835\n17     75018    Buttes-Montmartre      195060\n18     75019      Buttes-Chaumont       13722\n19     75020         M\u00e9nilmontant       15514"
                    }, 
                    "output_type": "execute_result"
                }
            ], 
            "source": "w_class='wikitable sortable alternance'\nrows = []\nfor (index,w_row) in enumerate(soup.find('table',{'class':w_class}).find('tbody').find_all('tr')):\n    row = [x.text.replace('\\n','') for x in w_row.find_all('td')]\n    if (len(row)==15 or len(row)==16) and index<23:\n        #print(len(row),row)\n        rows.append([\n            75000+int(re.findall(r'\\d+', row[0])[0]),\n            row[1].replace('[note 1]','').split(' ')[0].split(',')[0],\n            int(row[9].replace('\\xa0',''))])\n\ndf_postcode = pd.DataFrame(rows,columns = ['District','Name','Population'])\nprint(df_postcode.shape)\ndf_postcode.head(20)"
        }, 
        {
            "source": "# Acquiring geographical data \n### from data.gouv.fr / nodonnees", 
            "cell_type": "markdown", 
            "metadata": {}
        }, 
        {
            "execution_count": 4, 
            "cell_type": "code", 
            "metadata": {}, 
            "outputs": [
                {
                    "output_type": "stream", 
                    "name": "stdout", 
                    "text": "rm: cannot remove \u2018Geospatial_data.csv.gz\u2019: No such file or directory\r\n"
                }
            ], 
            "source": "!rm 'Geospatial_data.csv.gz'\n!rm 'Geospatial_data.csv'\n\n!wget -q -O 'Geospatial_data.csv.gz' http://www.nosdonnees.fr/wiki/images/b/b5/EUCircos_Regions_departements_circonscriptions_communes_gps.csv.gz\n\n!gzip -d 'Geospatial_data.csv.gz'"
        }, 
        {
            "execution_count": 5, 
            "cell_type": "code", 
            "metadata": {}, 
            "outputs": [
                {
                    "execution_count": 5, 
                    "metadata": {}, 
                    "data": {
                        "text/html": "<div>\n<style scoped>\n    .dataframe tbody tr th:only-of-type {\n        vertical-align: middle;\n    }\n\n    .dataframe tbody tr th {\n        vertical-align: top;\n    }\n\n    .dataframe thead th {\n        text-align: right;\n    }\n</style>\n<table border=\"1\" class=\"dataframe\">\n  <thead>\n    <tr style=\"text-align: right;\">\n      <th></th>\n      <th>EU_circo</th>\n      <th>code_r\u00e9gion</th>\n      <th>nom_r\u00e9gion</th>\n      <th>chef-lieu_r\u00e9gion</th>\n      <th>num\u00e9ro_d\u00e9partement</th>\n      <th>nom_d\u00e9partement</th>\n      <th>pr\u00e9fecture</th>\n      <th>num\u00e9ro_circonscription</th>\n      <th>nom_commune</th>\n      <th>codes_postaux</th>\n      <th>code_insee</th>\n      <th>latitude</th>\n      <th>longitude</th>\n      <th>\u00e9loignement</th>\n    </tr>\n  </thead>\n  <tbody>\n    <tr>\n      <th>30893</th>\n      <td>\u00cele-de-France</td>\n      <td>11</td>\n      <td>\u00cele-de-France</td>\n      <td>Paris</td>\n      <td>75</td>\n      <td>Paris</td>\n      <td>Paris</td>\n      <td>1</td>\n      <td>Paris</td>\n      <td>75001 75002 75003 75004</td>\n      <td>75056</td>\n      <td>NaN</td>\n      <td>NaN</td>\n      <td>NaN</td>\n    </tr>\n    <tr>\n      <th>30894</th>\n      <td>\u00cele-de-France</td>\n      <td>11</td>\n      <td>\u00cele-de-France</td>\n      <td>Paris</td>\n      <td>75</td>\n      <td>Paris</td>\n      <td>Paris</td>\n      <td>2</td>\n      <td>Paris</td>\n      <td>75005 75006</td>\n      <td>75056</td>\n      <td>NaN</td>\n      <td>NaN</td>\n      <td>NaN</td>\n    </tr>\n    <tr>\n      <th>30895</th>\n      <td>\u00cele-de-France</td>\n      <td>11</td>\n      <td>\u00cele-de-France</td>\n      <td>Paris</td>\n      <td>75</td>\n      <td>Paris</td>\n      <td>Paris</td>\n      <td>3</td>\n      <td>Paris</td>\n      <td>75006 75007</td>\n      <td>75056</td>\n      <td>NaN</td>\n      <td>NaN</td>\n      <td>NaN</td>\n    </tr>\n    <tr>\n      <th>30896</th>\n      <td>\u00cele-de-France</td>\n      <td>11</td>\n      <td>\u00cele-de-France</td>\n      <td>Paris</td>\n      <td>75</td>\n      <td>Paris</td>\n      <td>Paris</td>\n      <td>4</td>\n      <td>Paris</td>\n      <td>75008 75009</td>\n      <td>75056</td>\n      <td>NaN</td>\n      <td>NaN</td>\n      <td>NaN</td>\n    </tr>\n    <tr>\n      <th>30897</th>\n      <td>\u00cele-de-France</td>\n      <td>11</td>\n      <td>\u00cele-de-France</td>\n      <td>Paris</td>\n      <td>75</td>\n      <td>Paris</td>\n      <td>Paris</td>\n      <td>5</td>\n      <td>Paris</td>\n      <td>75010</td>\n      <td>75056</td>\n      <td>NaN</td>\n      <td>NaN</td>\n      <td>NaN</td>\n    </tr>\n  </tbody>\n</table>\n</div>", 
                        "text/plain": "            EU_circo  code_r\u00e9gion     nom_r\u00e9gion chef-lieu_r\u00e9gion  \\\n30893  \u00cele-de-France           11  \u00cele-de-France            Paris   \n30894  \u00cele-de-France           11  \u00cele-de-France            Paris   \n30895  \u00cele-de-France           11  \u00cele-de-France            Paris   \n30896  \u00cele-de-France           11  \u00cele-de-France            Paris   \n30897  \u00cele-de-France           11  \u00cele-de-France            Paris   \n\n      num\u00e9ro_d\u00e9partement nom_d\u00e9partement pr\u00e9fecture  num\u00e9ro_circonscription  \\\n30893                 75           Paris      Paris                       1   \n30894                 75           Paris      Paris                       2   \n30895                 75           Paris      Paris                       3   \n30896                 75           Paris      Paris                       4   \n30897                 75           Paris      Paris                       5   \n\n      nom_commune            codes_postaux  code_insee latitude longitude  \\\n30893       Paris  75001 75002 75003 75004       75056      NaN       NaN   \n30894       Paris              75005 75006       75056      NaN       NaN   \n30895       Paris              75006 75007       75056      NaN       NaN   \n30896       Paris              75008 75009       75056      NaN       NaN   \n30897       Paris                    75010       75056      NaN       NaN   \n\n      \u00e9loignement  \n30893         NaN  \n30894         NaN  \n30895         NaN  \n30896         NaN  \n30897         NaN  "
                    }, 
                    "output_type": "execute_result"
                }
            ], 
            "source": "df_geo = pd.read_csv('Geospatial_data.csv',sep =';')\ndf_geo[df_geo['nom_commune']=='Paris'].head(5)"
        }, 
        {
            "source": "## Fail !\n### Try with Google", 
            "cell_type": "markdown", 
            "metadata": {}
        }, 
        {
            "execution_count": 6, 
            "cell_type": "code", 
            "metadata": {}, 
            "outputs": [
                {
                    "output_type": "stream", 
                    "name": "stdout", 
                    "text": "Fetching package metadata .............\nSolving package specifications: .\n\n# All requested packages already installed.\n# packages in environment at /opt/conda/envs/DSX-Python35:\n#\ngooglemaps                2.5.1                      py_0    conda-forge\n"
                }
            ], 
            "source": "#!conda install -c conda-forge googlemaps --yes "
        }, 
        {
            "execution_count": 7, 
            "cell_type": "code", 
            "metadata": {}, 
            "outputs": [], 
            "source": "import googlemaps\n#https://github.com/googlemaps/google-maps-services-python"
        }, 
        {
            "execution_count": 57, 
            "cell_type": "code", 
            "metadata": {}, 
            "outputs": [], 
            "source": "# The code was removed by Watson Studio for sharing."
        }, 
        {
            "execution_count": 11, 
            "cell_type": "code", 
            "metadata": {}, 
            "outputs": [
                {
                    "execution_count": 11, 
                    "metadata": {}, 
                    "data": {
                        "text/plain": "[{'address_components': [{'long_name': '75015',\n    'short_name': '75015',\n    'types': ['postal_code']},\n   {'long_name': 'Paris',\n    'short_name': 'Paris',\n    'types': ['locality', 'political']},\n   {'long_name': 'Paris',\n    'short_name': 'Paris',\n    'types': ['administrative_area_level_2', 'political']},\n   {'long_name': '\u00cele-de-France',\n    'short_name': '\u00cele-de-France',\n    'types': ['administrative_area_level_1', 'political']},\n   {'long_name': 'France',\n    'short_name': 'FR',\n    'types': ['country', 'political']}],\n  'formatted_address': '75015 Paris, France',\n  'geometry': {'bounds': {'northeast': {'lat': 48.87359000000001,\n     'lng': 2.3519189},\n    'southwest': {'lat': 48.8252116, 'lng': 2.2629819}},\n   'location': {'lat': 48.8421616, 'lng': 2.2927665},\n   'location_type': 'APPROXIMATE',\n   'viewport': {'northeast': {'lat': 48.87359000000001, 'lng': 2.3519189},\n    'southwest': {'lat': 48.8252116, 'lng': 2.2629819}}},\n  'place_id': 'ChIJ9WBuGRRw5kcR4FHY4caCCxw',\n  'types': ['postal_code']}]"
                    }, 
                    "output_type": "execute_result"
                }
            ], 
            "source": "geocode_result = gmaps.geocode('75015, France')\ngeocode_result"
        }, 
        {
            "execution_count": 12, 
            "cell_type": "code", 
            "metadata": {}, 
            "outputs": [
                {
                    "execution_count": 12, 
                    "metadata": {}, 
                    "data": {
                        "text/plain": "{'lat': 48.8421616, 'lng': 2.2927665}"
                    }, 
                    "output_type": "execute_result"
                }
            ], 
            "source": "geocode_result[0]['geometry']['location']"
        }, 
        {
            "execution_count": 22, 
            "cell_type": "code", 
            "metadata": {}, 
            "outputs": [
                {
                    "output_type": "stream", 
                    "name": "stdout", 
                    "text": "75001, France\n75002, France\n75003, France\n75004, France\n75005, France\n75006, France\n75007, France\n75008, France\n75009, France\n75010, France\n75011, France\n75012, France\n75013, France\n75014, France\n75015, France\n75016, France\n75017, France\n75018, France\n75019, France\n75020, France\n"
                }, 
                {
                    "execution_count": 22, 
                    "metadata": {}, 
                    "data": {
                        "text/plain": "[[48.8640493, 2.3310526],\n [48.8675641, 2.34399],\n [48.8634799, 2.3591145],\n [48.8534275, 2.3582788],\n [48.8434912, 2.3518339],\n [48.8488576, 2.3354223],\n [48.85433450000001, 2.3134029],\n [48.8718722, 2.3176432],\n [48.8790183, 2.3379063],\n [48.8785618, 2.3603689],\n [48.85799300000001, 2.381153],\n [48.8293647, 2.4265406],\n [48.830759, 2.359204],\n [48.8314408, 2.3255684],\n [48.8421616, 2.2927665],\n [48.8530933, 2.2487626],\n [48.891986, 2.319287],\n [48.891305, 2.3529867],\n [48.89061359999999, 2.3867083],\n [48.8599825, 2.4066412]]"
                    }, 
                    "output_type": "execute_result"
                }
            ], 
            "source": "locations=[]\nfor index,row in df_postcode.iterrows():\n    address = '{}, France'.format(row['District'])\n    print(address)\n    geocode_result = gmaps.geocode(address)\n    locations.append([\n        row['District'],\n        geocode_result[0]['geometry']['location']['lat'],\n        geocode_result[0]['geometry']['location']['lng']\n    ])\n\nlocations"
        }, 
        {
            "execution_count": 36, 
            "cell_type": "code", 
            "metadata": {}, 
            "outputs": [], 
            "source": "df_geo=pd.DataFrame(data=locations,columns=['District','lat','lng'])\n"
        }, 
        {
            "execution_count": 53, 
            "cell_type": "code", 
            "metadata": {}, 
            "outputs": [
                {
                    "execution_count": 53, 
                    "metadata": {}, 
                    "data": {
                        "text/html": "<div>\n<style scoped>\n    .dataframe tbody tr th:only-of-type {\n        vertical-align: middle;\n    }\n\n    .dataframe tbody tr th {\n        vertical-align: top;\n    }\n\n    .dataframe thead th {\n        text-align: right;\n    }\n</style>\n<table border=\"1\" class=\"dataframe\">\n  <thead>\n    <tr style=\"text-align: right;\">\n      <th></th>\n      <th>District</th>\n      <th>Name</th>\n      <th>Population</th>\n      <th>lat</th>\n      <th>lng</th>\n    </tr>\n  </thead>\n  <tbody>\n    <tr>\n      <th>0</th>\n      <td>75001</td>\n      <td>Louvre</td>\n      <td>16252</td>\n      <td>48.864049</td>\n      <td>2.331053</td>\n    </tr>\n    <tr>\n      <th>1</th>\n      <td>75002</td>\n      <td>Bourse</td>\n      <td>20260</td>\n      <td>48.867564</td>\n      <td>2.343990</td>\n    </tr>\n    <tr>\n      <th>2</th>\n      <td>75003</td>\n      <td>Temple</td>\n      <td>34788</td>\n      <td>48.863480</td>\n      <td>2.359115</td>\n    </tr>\n    <tr>\n      <th>3</th>\n      <td>75004</td>\n      <td>H\u00f4tel-de-Ville</td>\n      <td>27487</td>\n      <td>48.853428</td>\n      <td>2.358279</td>\n    </tr>\n    <tr>\n      <th>4</th>\n      <td>75005</td>\n      <td>Panth\u00e9on</td>\n      <td>59108</td>\n      <td>48.843491</td>\n      <td>2.351834</td>\n    </tr>\n    <tr>\n      <th>5</th>\n      <td>75006</td>\n      <td>Luxembourg</td>\n      <td>40916</td>\n      <td>48.848858</td>\n      <td>2.335422</td>\n    </tr>\n    <tr>\n      <th>6</th>\n      <td>75007</td>\n      <td>Palais-Bourbon</td>\n      <td>52512</td>\n      <td>48.854335</td>\n      <td>2.313403</td>\n    </tr>\n    <tr>\n      <th>7</th>\n      <td>75008</td>\n      <td>\u00c9lys\u00e9e</td>\n      <td>36453</td>\n      <td>48.871872</td>\n      <td>2.317643</td>\n    </tr>\n    <tr>\n      <th>8</th>\n      <td>75009</td>\n      <td>Op\u00e9ra</td>\n      <td>59629</td>\n      <td>48.879018</td>\n      <td>2.337906</td>\n    </tr>\n    <tr>\n      <th>9</th>\n      <td>75010</td>\n      <td>Entrep\u00f4t</td>\n      <td>91932</td>\n      <td>48.878562</td>\n      <td>2.360369</td>\n    </tr>\n    <tr>\n      <th>10</th>\n      <td>75011</td>\n      <td>Popincourt</td>\n      <td>147017</td>\n      <td>48.857993</td>\n      <td>2.381153</td>\n    </tr>\n    <tr>\n      <th>11</th>\n      <td>75012</td>\n      <td>Reuilly</td>\n      <td>141494</td>\n      <td>48.829365</td>\n      <td>2.426541</td>\n    </tr>\n    <tr>\n      <th>12</th>\n      <td>75013</td>\n      <td>Gobelins</td>\n      <td>181552</td>\n      <td>48.830759</td>\n      <td>2.359204</td>\n    </tr>\n    <tr>\n      <th>13</th>\n      <td>75014</td>\n      <td>Observatoire</td>\n      <td>137105</td>\n      <td>48.831441</td>\n      <td>2.325568</td>\n    </tr>\n    <tr>\n      <th>14</th>\n      <td>75015</td>\n      <td>Vaugirard</td>\n      <td>233484</td>\n      <td>48.842162</td>\n      <td>2.292766</td>\n    </tr>\n    <tr>\n      <th>15</th>\n      <td>75016</td>\n      <td>Passy</td>\n      <td>165446</td>\n      <td>48.853093</td>\n      <td>2.248763</td>\n    </tr>\n    <tr>\n      <th>16</th>\n      <td>75017</td>\n      <td>Batignolles-Monceau</td>\n      <td>167835</td>\n      <td>48.891986</td>\n      <td>2.319287</td>\n    </tr>\n    <tr>\n      <th>17</th>\n      <td>75018</td>\n      <td>Buttes-Montmartre</td>\n      <td>195060</td>\n      <td>48.891305</td>\n      <td>2.352987</td>\n    </tr>\n    <tr>\n      <th>18</th>\n      <td>75019</td>\n      <td>Buttes-Chaumont</td>\n      <td>13722</td>\n      <td>48.890614</td>\n      <td>2.386708</td>\n    </tr>\n    <tr>\n      <th>19</th>\n      <td>75020</td>\n      <td>M\u00e9nilmontant</td>\n      <td>15514</td>\n      <td>48.859983</td>\n      <td>2.406641</td>\n    </tr>\n  </tbody>\n</table>\n</div>", 
                        "text/plain": "    District                 Name  Population        lat       lng\n0      75001               Louvre       16252  48.864049  2.331053\n1      75002               Bourse       20260  48.867564  2.343990\n2      75003               Temple       34788  48.863480  2.359115\n3      75004       H\u00f4tel-de-Ville       27487  48.853428  2.358279\n4      75005             Panth\u00e9on       59108  48.843491  2.351834\n5      75006           Luxembourg       40916  48.848858  2.335422\n6      75007       Palais-Bourbon       52512  48.854335  2.313403\n7      75008               \u00c9lys\u00e9e       36453  48.871872  2.317643\n8      75009                Op\u00e9ra       59629  48.879018  2.337906\n9      75010             Entrep\u00f4t       91932  48.878562  2.360369\n10     75011           Popincourt      147017  48.857993  2.381153\n11     75012              Reuilly      141494  48.829365  2.426541\n12     75013             Gobelins      181552  48.830759  2.359204\n13     75014         Observatoire      137105  48.831441  2.325568\n14     75015            Vaugirard      233484  48.842162  2.292766\n15     75016                Passy      165446  48.853093  2.248763\n16     75017  Batignolles-Monceau      167835  48.891986  2.319287\n17     75018    Buttes-Montmartre      195060  48.891305  2.352987\n18     75019      Buttes-Chaumont       13722  48.890614  2.386708\n19     75020         M\u00e9nilmontant       15514  48.859983  2.406641"
                    }, 
                    "output_type": "execute_result"
                }
            ], 
            "source": "df_paris = df_postcode.set_index('District').join(df_geo.set_index('District')).reset_index()\ndf_paris"
        }, 
        {
            "source": "# Mapping Paris", 
            "cell_type": "markdown", 
            "metadata": {}
        }, 
        {
            "execution_count": 43, 
            "cell_type": "code", 
            "metadata": {}, 
            "outputs": [
                {
                    "output_type": "stream", 
                    "name": "stdout", 
                    "text": "Fetching package metadata .............\nSolving package specifications: .\n\nPackage plan for installation in environment /opt/conda/envs/DSX-Python35:\n\nThe following NEW packages will be INSTALLED:\n\n    altair:  2.2.2-py35_1 conda-forge\n    branca:  0.3.1-py_0   conda-forge\n    folium:  0.5.0-py_0   conda-forge\n    vincent: 0.4.4-py_1   conda-forge\n\naltair-2.2.2-p 100% |################################| Time: 0:00:00   4.94 MB/s\nbranca-0.3.1-p 100% |################################| Time: 0:00:00  16.46 MB/s\nvincent-0.4.4- 100% |################################| Time: 0:00:00  19.11 MB/s\nfolium-0.5.0-p 100% |################################| Time: 0:00:00  21.15 MB/s\n"
                }
            ], 
            "source": "#!conda install -c conda-forge folium=0.5.0 --yes # uncomment this line if you haven't completed the Foursquare API lab"
        }, 
        {
            "execution_count": 45, 
            "cell_type": "code", 
            "metadata": {
                "scrolled": true
            }, 
            "outputs": [], 
            "source": "import folium # map rendering library"
        }, 
        {
            "execution_count": 46, 
            "cell_type": "code", 
            "metadata": {}, 
            "outputs": [], 
            "source": "from geopy.geocoders import Nominatim # convert an address into latitude and longitude values"
        }, 
        {
            "execution_count": 48, 
            "cell_type": "code", 
            "metadata": {}, 
            "outputs": [
                {
                    "output_type": "stream", 
                    "name": "stdout", 
                    "text": "The geograpical coordinate of 75001, France are 48.86191335, 2.34683143191878.\n"
                }
            ], 
            "source": "address = '75001, France'\n\ngeolocator = Nominatim()\nlocation = geolocator.geocode(address)\nlatitude = location.latitude\nlongitude = location.longitude\nprint('The geograpical coordinate of {} are {}, {}.'.format(address,latitude, longitude))"
        }, 
        {
            "execution_count": 56, 
            "cell_type": "code", 
            "metadata": {
                "scrolled": true
            }, 
            "outputs": [
                {
                    "execution_count": 56, 
                    "metadata": {}, 
                    "data": {
                        "text/html": "<div style=\"width:100%;\"><div style=\"position:relative;width:100%;height:0;padding-bottom:60%;\"><iframe src=\"data:text/html;charset=utf-8;base64,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\" style=\"position:absolute;width:100%;height:100%;left:0;top:0;border:none !important;\" allowfullscreen webkitallowfullscreen mozallowfullscreen></iframe></div></div>", 
                        "text/plain": "<folium.folium.Map at 0x7f4402b02080>"
                    }, 
                    "output_type": "execute_result"
                }
            ], 
            "source": "map_paris = folium.Map(location=[latitude, longitude], zoom_start=10)\n\n# add markers to map\nfor index,row in df_paris.iterrows():\n    district,name,population,lat, lng = row.values\n    label = '{} ({}), pop:{}'.format(name, district, population)\n    label = folium.Popup(label, parse_html=True)\n    folium.CircleMarker(\n        [lat, lng],\n        radius=5,\n        popup=label,\n        color='blue',\n        fill=True,\n        fill_color='#3186cc',\n        fill_opacity=0.7,\n        parse_html=False).add_to(map_paris)  \n    \nmap_paris"
        }, 
        {
            "source": "# Getting Foursquare Data", 
            "cell_type": "markdown", 
            "metadata": {}
        }, 
        {
            "execution_count": 63, 
            "cell_type": "code", 
            "metadata": {}, 
            "outputs": [], 
            "source": "# The code was removed by Watson Studio for sharing."
        }, 
        {
            "execution_count": 59, 
            "cell_type": "code", 
            "metadata": {}, 
            "outputs": [], 
            "source": "def get_category_type(row):\n    try:\n        categories_list = row['categories']\n    except:\n        categories_list = row['venue.categories']\n        \n    if len(categories_list) == 0:\n        return None\n    else:\n        return categories_list[0]['name']"
        }, 
        {
            "execution_count": 61, 
            "cell_type": "code", 
            "metadata": {}, 
            "outputs": [], 
            "source": "def getNearbyVenues(df):\n    \n    radius=500\n    venues_list=[]\n    for (index,(district,name,population,lat, lng)) in df.iterrows():\n        print(name)\n            \n        # create the API request URL\n        url = 'https://api.foursquare.com/v2/venues/explore?&client_id={}&client_secret={}&v={}&ll={},{}&radius={}&limit={}'.format(\n            CLIENT_ID, \n            CLIENT_SECRET, \n            VERSION, \n            lat, \n            lng, \n            radius, \n            LIMIT)\n            \n        # make the GET request\n        results = requests.get(url).json()[\"response\"]['groups'][0]['items']\n        \n        # return only relevant information for each nearby venue\n        venues_list.append([(\n            district, \n            name,\n            population,\n            lat, \n            lng, \n            v['venue']['name'], \n            v['venue']['location']['lat'], \n            v['venue']['location']['lng'],  \n            v['venue']['categories'][0]['name']) for v in results])\n\n    nearby_venues = pd.DataFrame([item for venue_list in venues_list for item in venue_list])\n    nearby_venues.columns = ['District', \n                             'Name',\n                             'Population',\n                              'Latitude', \n                              ' Longitude', \n                              'Venue', \n                              'Venue Latitude', \n                              'Venue Longitude', \n                              'Venue Category']\n    \n    return(nearby_venues)"
        }, 
        {
            "execution_count": 64, 
            "cell_type": "code", 
            "metadata": {}, 
            "outputs": [
                {
                    "output_type": "stream", 
                    "name": "stdout", 
                    "text": "Louvre\nBourse\nTemple\nH\u00f4tel-de-Ville\nPanth\u00e9on\nLuxembourg\nPalais-Bourbon\n\u00c9lys\u00e9e\nOp\u00e9ra\nEntrep\u00f4t\nPopincourt\nReuilly\nGobelins\nObservatoire\nVaugirard\nPassy\nBatignolles-Monceau\nButtes-Montmartre\nButtes-Chaumont\nM\u00e9nilmontant\n"
                }
            ], 
            "source": "paris_venues = getNearbyVenues(df_paris)"
        }, 
        {
            "execution_count": 65, 
            "cell_type": "code", 
            "metadata": {}, 
            "outputs": [
                {
                    "execution_count": 65, 
                    "metadata": {}, 
                    "data": {
                        "text/html": "<div>\n<style scoped>\n    .dataframe tbody tr th:only-of-type {\n        vertical-align: middle;\n    }\n\n    .dataframe tbody tr th {\n        vertical-align: top;\n    }\n\n    .dataframe thead th {\n        text-align: right;\n    }\n</style>\n<table border=\"1\" class=\"dataframe\">\n  <thead>\n    <tr style=\"text-align: right;\">\n      <th></th>\n      <th>District</th>\n      <th>Name</th>\n      <th>Population</th>\n      <th>Latitude</th>\n      <th>Longitude</th>\n      <th>Venue</th>\n      <th>Venue Latitude</th>\n      <th>Venue Longitude</th>\n      <th>Venue Category</th>\n    </tr>\n  </thead>\n  <tbody>\n    <tr>\n      <th>0</th>\n      <td>75001</td>\n      <td>Louvre</td>\n      <td>16252</td>\n      <td>48.864049</td>\n      <td>2.331053</td>\n      <td>Les Arts D\u00e9coratifs</td>\n      <td>48.863077</td>\n      <td>2.333393</td>\n      <td>Art Museum</td>\n    </tr>\n    <tr>\n      <th>1</th>\n      <td>75001</td>\n      <td>Louvre</td>\n      <td>16252</td>\n      <td>48.864049</td>\n      <td>2.331053</td>\n      <td>Grand Bassin Rond</td>\n      <td>48.862880</td>\n      <td>2.329295</td>\n      <td>Fountain</td>\n    </tr>\n    <tr>\n      <th>2</th>\n      <td>75001</td>\n      <td>Louvre</td>\n      <td>16252</td>\n      <td>48.864049</td>\n      <td>2.331053</td>\n      <td>Librairie Galignani</td>\n      <td>48.864989</td>\n      <td>2.328570</td>\n      <td>Bookstore</td>\n    </tr>\n    <tr>\n      <th>3</th>\n      <td>75001</td>\n      <td>Louvre</td>\n      <td>16252</td>\n      <td>48.864049</td>\n      <td>2.331053</td>\n      <td>H\u00f4tel Le Pradey</td>\n      <td>48.864459</td>\n      <td>2.331654</td>\n      <td>Hotel</td>\n    </tr>\n    <tr>\n      <th>4</th>\n      <td>75001</td>\n      <td>Louvre</td>\n      <td>16252</td>\n      <td>48.864049</td>\n      <td>2.331053</td>\n      <td>Balagan</td>\n      <td>48.865432</td>\n      <td>2.329680</td>\n      <td>Israeli Restaurant</td>\n    </tr>\n  </tbody>\n</table>\n</div>", 
                        "text/plain": "   District    Name  Population   Latitude   Longitude                Venue  \\\n0     75001  Louvre       16252  48.864049    2.331053  Les Arts D\u00e9coratifs   \n1     75001  Louvre       16252  48.864049    2.331053    Grand Bassin Rond   \n2     75001  Louvre       16252  48.864049    2.331053  Librairie Galignani   \n3     75001  Louvre       16252  48.864049    2.331053      H\u00f4tel Le Pradey   \n4     75001  Louvre       16252  48.864049    2.331053              Balagan   \n\n   Venue Latitude  Venue Longitude      Venue Category  \n0       48.863077         2.333393          Art Museum  \n1       48.862880         2.329295            Fountain  \n2       48.864989         2.328570           Bookstore  \n3       48.864459         2.331654               Hotel  \n4       48.865432         2.329680  Israeli Restaurant  "
                    }, 
                    "output_type": "execute_result"
                }
            ], 
            "source": "paris_venues.head()"
        }, 
        {
            "execution_count": 67, 
            "cell_type": "code", 
            "metadata": {}, 
            "outputs": [
                {
                    "execution_count": 67, 
                    "metadata": {}, 
                    "data": {
                        "text/plain": "(1261, 9)"
                    }, 
                    "output_type": "execute_result"
                }
            ], 
            "source": "paris_venues.shape"
        }, 
        {
            "execution_count": 70, 
            "cell_type": "code", 
            "metadata": {}, 
            "outputs": [], 
            "source": "paris_venues.to_csv('paris_venues.csv',';')"
        }, 
        {
            "execution_count": null, 
            "cell_type": "code", 
            "metadata": {}, 
            "outputs": [], 
            "source": ""
        }
    ], 
    "metadata": {
        "kernelspec": {
            "display_name": "Python 3.5", 
            "name": "python3", 
            "language": "python"
        }, 
        "language_info": {
            "mimetype": "text/x-python", 
            "nbconvert_exporter": "python", 
            "version": "3.5.5", 
            "name": "python", 
            "file_extension": ".py", 
            "pygments_lexer": "ipython3", 
            "codemirror_mode": {
                "version": 3, 
                "name": "ipython"
            }
        }
    }, 
    "nbformat": 4
}